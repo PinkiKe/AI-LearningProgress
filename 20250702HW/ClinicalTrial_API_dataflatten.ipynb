{
 "cells": [
  {
   "cell_type": "code",
   "execution_count": 47,
   "id": "7e60f95a-f8ac-41c1-a830-54295fa499af",
   "metadata": {},
   "outputs": [
    {
     "name": "stdout",
     "output_type": "stream",
     "text": [
      "🔍 正在抓取完整試驗資料...\n",
      "✅ 已儲存到 full_trials_20250702.json\n",
      "✅ 已儲存到 NCT02536248_20250702.json\n",
      "✅ 已儲存到 NCT06047548_20250702.json\n",
      "✅ 已儲存到 NCT00796848_20250702.json\n",
      "✅ 已儲存到 NCT00846248_20250702.json\n",
      "✅ 已儲存到 NCT06977048_20250702.json\n"
     ]
    }
   ],
   "source": [
    "import requests\n",
    "import json\n",
    "from datetime import datetime\n",
    "\n",
    "BASE_URL = \"https://clinicaltrials.gov/api/v2/studies\"\n",
    "\n",
    "def fetch_full_trial(query_term=\"diabetes\"):\n",
    "    url = f\"{BASE_URL}?query.term={query_term}&pageSize=5\"\n",
    "    print(\"🔍 正在抓取完整試驗資料...\")\n",
    "\n",
    "    response = requests.get(url)\n",
    "    if response.status_code != 200:\n",
    "        print(f\"❌ 錯誤：{response.status_code} - {response.text}\")\n",
    "        return []\n",
    "\n",
    "    data = response.json()\n",
    "    studies = data.get(\"studies\", [])\n",
    "    if not studies:\n",
    "        print(\"⚠️ 沒有資料\")\n",
    "        return []\n",
    "\n",
    "    return studies\n",
    "\n",
    "def save_to_json(data, filename):\n",
    "    with open(filename, \"w\", encoding=\"utf-8\") as f:\n",
    "        json.dump(data, f, ensure_ascii=False, indent=2)\n",
    "    print(f\"✅ 已儲存到 {filename}\")\n",
    "\n",
    "# 攤平函式\n",
    "def flatten_dict(d, parent_key='', sep='.'):\n",
    "    items = []\n",
    "    for k, v in d.items():\n",
    "        new_key = f\"{parent_key}{sep}{k}\" if parent_key else k\n",
    "        if isinstance(v, dict):\n",
    "            items.extend(flatten_dict(v, new_key, sep=sep).items())\n",
    "        elif isinstance(v, list):\n",
    "            for i, item in enumerate(v):\n",
    "                if isinstance(item, dict):\n",
    "                    items.extend(flatten_dict(item, f\"{new_key}[{i}]\", sep=sep).items())\n",
    "                else:\n",
    "                    items.append((f\"{new_key}[{i}]\", item))\n",
    "        else:\n",
    "            items.append((new_key, v))\n",
    "    return dict(items)\n",
    "\n",
    "if __name__ == \"__main__\":\n",
    "    trials = fetch_full_trial(query_term=\"diabetes\")\n",
    "    \n",
    "    if trials:\n",
    "        today_str = datetime.today().strftime(\"%Y%m%d\")\n",
    "        save_to_json(trials, f\"full_trials_{today_str}.json\")\n",
    "\n",
    "        for trial in trials:\n",
    "            flat_trial = flatten_dict(trial)\n",
    "            \n",
    "            # 以 nctID + 抓取資料日期命名\n",
    "            nct_id = flat_trial.get(\"protocolSection.identificationModule.nctId\", \"unknown\")\n",
    "            \n",
    "            flat_filename = f\"{nct_id}_{today_str}.json\"\n",
    "            save_to_json(flat_trial, flat_filename)"
   ]
  }
 ],
 "metadata": {
  "kernelspec": {
   "display_name": "Python 3 (ipykernel)",
   "language": "python",
   "name": "python3"
  },
  "language_info": {
   "codemirror_mode": {
    "name": "ipython",
    "version": 3
   },
   "file_extension": ".py",
   "mimetype": "text/x-python",
   "name": "python",
   "nbconvert_exporter": "python",
   "pygments_lexer": "ipython3",
   "version": "3.12.9"
  }
 },
 "nbformat": 4,
 "nbformat_minor": 5
}
