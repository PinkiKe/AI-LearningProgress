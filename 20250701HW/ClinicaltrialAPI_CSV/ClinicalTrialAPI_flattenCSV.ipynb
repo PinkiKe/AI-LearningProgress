{
 "cells": [
  {
   "cell_type": "code",
   "execution_count": 1,
   "id": "58eae3ed-e233-4fe8-addd-055d704ea91e",
   "metadata": {},
   "outputs": [
    {
     "name": "stdout",
     "output_type": "stream",
     "text": [
      "🔍 正在抓取完整試驗資料...\n",
      "✅ 已輸出到 all_trials_20250730.csv\n"
     ]
    }
   ],
   "source": [
    "import requests\n",
    "import json\n",
    "import pandas as pd\n",
    "from datetime import datetime\n",
    "\n",
    "BASE_URL = \"https://clinicaltrials.gov/api/v2/studies\"\n",
    "\n",
    "def fetch_full_trial(query_term=\"diabetes\"):\n",
    "    url = f\"{BASE_URL}?query.term={query_term}&pageSize=5\"\n",
    "    print(\"🔍 正在抓取完整試驗資料...\")\n",
    "    response = requests.get(url)\n",
    "    if response.status_code != 200:\n",
    "        print(f\"❌ 錯誤：{response.status_code} - {response.text}\")\n",
    "        return []\n",
    "    data = response.json()\n",
    "    studies = data.get(\"studies\", [])\n",
    "    if not studies:\n",
    "        print(\"⚠️ 沒有資料\")\n",
    "        return []\n",
    "    return studies\n",
    "\n",
    "def flatten_dict(d, parent_key='', sep='.'):\n",
    "    items = []\n",
    "    for k, v in d.items():\n",
    "        new_key = f\"{parent_key}{sep}{k}\" if parent_key else k\n",
    "        if isinstance(v, dict):\n",
    "            items.extend(flatten_dict(v, new_key, sep=sep).items())\n",
    "        elif isinstance(v, list):\n",
    "            for i, item in enumerate(v):\n",
    "                if isinstance(item, dict):\n",
    "                    items.extend(flatten_dict(item, f\"{new_key}[{i}]\", sep=sep).items())\n",
    "                else:\n",
    "                    items.append((f\"{new_key}[{i}]\", item))\n",
    "        else:\n",
    "            items.append((new_key, v))\n",
    "    return dict(items)\n",
    "\n",
    "def reorder_columns(df):\n",
    "    all_cols = list(df.columns)\n",
    "    protocol_cols = [col for col in all_cols if col.startswith(\"protocolSection\")]\n",
    "    derived_cols = [col for col in all_cols if col.startswith(\"derivedSection\")]\n",
    "    has_result_cols = [col for col in all_cols if col.startswith(\"hasResult\")]\n",
    "    document_cols = [col for col in all_cols if col.startswith(\"documentSection\")]\n",
    "    results_cols = [col for col in all_cols if col.startswith(\"resultsSection\")]\n",
    "    other_cols = [col for col in all_cols if col not in protocol_cols + derived_cols + has_result_cols + document_cols + results_cols]\n",
    "    # 重新排列順序\n",
    "    return df[protocol_cols + derived_cols + has_result_cols + document_cols + results_cols + other_cols]\n",
    "\n",
    "if __name__ == \"__main__\":\n",
    "    trials = fetch_full_trial(query_term=\"diabetes\")\n",
    "    if trials:\n",
    "        today_str = datetime.today().strftime(\"%Y%m%d\")\n",
    "        \n",
    "        with open(f\"full_trials_{today_str}.json\", \"w\", encoding=\"utf-8\") as f:\n",
    "            json.dump(trials, f, ensure_ascii=False, indent=2)\n",
    "        \n",
    "        flat_trials = []\n",
    "        for trial in trials:\n",
    "            flat_trial = flatten_dict(trial)\n",
    "            flat_trials.append(flat_trial)\n",
    "        \n",
    "        df = pd.DataFrame(flat_trials)\n",
    "        \n",
    "        df = reorder_columns(df)\n",
    "        \n",
    "        df.to_csv(f\"all_trials_{today_str}.csv\", index=False)\n",
    "        print(f\"✅ 已輸出到 all_trials_{today_str}.csv\")"
   ]
  }
 ],
 "metadata": {
  "kernelspec": {
   "display_name": "Python 3 (ipykernel)",
   "language": "python",
   "name": "python3"
  },
  "language_info": {
   "codemirror_mode": {
    "name": "ipython",
    "version": 3
   },
   "file_extension": ".py",
   "mimetype": "text/x-python",
   "name": "python",
   "nbconvert_exporter": "python",
   "pygments_lexer": "ipython3",
   "version": "3.12.9"
  }
 },
 "nbformat": 4,
 "nbformat_minor": 5
}
